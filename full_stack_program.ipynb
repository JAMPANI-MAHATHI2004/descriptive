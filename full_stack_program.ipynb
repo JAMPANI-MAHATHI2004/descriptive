{
  "nbformat": 4,
  "nbformat_minor": 0,
  "metadata": {
    "colab": {
      "provenance": [],
      "authorship_tag": "ABX9TyPEodaEMo7yp/LLvYw9N/xL",
      "include_colab_link": true
    },
    "kernelspec": {
      "name": "python3",
      "display_name": "Python 3"
    },
    "language_info": {
      "name": "python"
    }
  },
  "cells": [
    {
      "cell_type": "markdown",
      "metadata": {
        "id": "view-in-github",
        "colab_type": "text"
      },
      "source": [
        "<a href=\"https://colab.research.google.com/github/JAMPANI-MAHATHI2004/descriptive/blob/main/full_stack_program.ipynb\" target=\"_parent\"><img src=\"https://colab.research.google.com/assets/colab-badge.svg\" alt=\"Open In Colab\"/></a>"
      ]
    },
    {
      "cell_type": "code",
      "execution_count": null,
      "metadata": {
        "colab": {
          "base_uri": "https://localhost:8080/"
        },
        "id": "0qv3kcsch-7_",
        "outputId": "586d20c5-8d13-469f-b063-aabea4876c1e"
      },
      "outputs": [
        {
          "output_type": "stream",
          "name": "stdout",
          "text": [
            "Mahathi@gmail.com\n",
            "valid\n"
          ]
        }
      ],
      "source": [
        "import re\n",
        "mail = input()\n",
        "condition = \"^[A-Z]+[a-z]+[\\._]?[a-z 0-9]+[@]\\w+[.]\\w{2,3}$\"\n",
        "if re.search(condition,mail):\n",
        "  print(\"valid\")\n",
        "else:\n",
        "  print(\"invalid\")"
      ]
    },
    {
      "cell_type": "code",
      "source": [
        "#generating password\n",
        "import math\n",
        "import random\n",
        "def generate(length,a,is_alpha=False):\n",
        "  for i in range(length):\n",
        "    index=random.randint(0,len(a)-1)\n",
        "    char=a[index]\n",
        "    if is_alpha:\n",
        "      case = random.randint(0,1)\n",
        "      if case == 1:\n",
        "        char = char.upper()\n",
        "    password.append(char)\n",
        "lalpha=\"qwertyuiopasdfghjklzxcvbnm\" #lower alphabets\n",
        "# ualpha=\"QWERTYUIOPASDFGHJKLZXCVBNM\" #upper alphabets\n",
        "dig='1234567890'\n",
        "splchar='!@#$%^&*(){}[]:;<>,./\\=-_+'\n",
        "length=int(input())\n",
        "low = length//2\n",
        "digits = math.ceil(length*30/100)\n",
        "spl = length-(low+digits)\n",
        "\n",
        "password = []\n",
        "generate(low,lalpha,True)\n",
        "generate(digits,dig)\n",
        "generate(spl,splchar)\n",
        "random.shuffle(password)\n",
        "for i in range(len(password)):\n",
        "  print(password[i],end=\"\")\n",
        "# print(''.join(password))"
      ],
      "metadata": {
        "id": "xnJfi8_nlviv",
        "colab": {
          "base_uri": "https://localhost:8080/"
        },
        "outputId": "fd65e709-476b-4a71-84b8-1e6b5cd9a888"
      },
      "execution_count": 12,
      "outputs": [
        {
          "output_type": "stream",
          "name": "stdout",
          "text": [
            "5\n",
            "94]xc"
          ]
        }
      ]
    },
    {
      "cell_type": "code",
      "source": [
        "import re\n",
        "password = input()\n",
        "condition = \"^(?=.*[A-Z])(?=.*[a-z])(?=.*[0-9])(?=.*[!@#$%^&*(){}[\\]:;<>,./\\\\=-_+])[A-Za-z0-9!@#$%^&*(){}[\\]:;<>,./\\\\=-_+]{8,}$\"\n",
        "if re.search(condition,password):\n",
        "  print('valid')\n",
        "else:\n",
        "  print('invalid')"
      ],
      "metadata": {
        "colab": {
          "base_uri": "https://localhost:8080/"
        },
        "id": "D2pXNMWI3o6H",
        "outputId": "1b640dd8-2523-4ab7-a89f-a054d4da0d8e"
      },
      "execution_count": 19,
      "outputs": [
        {
          "output_type": "stream",
          "name": "stdout",
          "text": [
            "A@123asdf\n",
            "valid\n"
          ]
        }
      ]
    },
    {
      "cell_type": "code",
      "source": [
        "import re\n",
        "password=input()\n",
        "charre=re.compile(r'(\\w{8,})')\n",
        "lowre=re.compile(r'[a-z]+')\n",
        "upperre=re.compile(r'[A-Z]+')\n",
        "digitre=re.compile(r'[0-9]+')\n",
        "if charre.findall(password)==[]:\n",
        "  print(\"must contain 8 or more characters\")\n",
        "elif lowre.findall(password)==[]:\n",
        "  print(\"must contain lowercaase\")\n",
        "elif upperre.findall(password)==[]:\n",
        "  print(\"must contain uppercase\")\n",
        "elif digitre.findall(password)==[]:\n",
        "  print(\"must contain digit\")\n",
        "else:\n",
        "  print(\"strong password\")"
      ],
      "metadata": {
        "colab": {
          "base_uri": "https://localhost:8080/"
        },
        "id": "PNOHL4SM7f_D",
        "outputId": "748f63cc-00cd-4467-8426-7e8f11045287"
      },
      "execution_count": 21,
      "outputs": [
        {
          "output_type": "stream",
          "name": "stdout",
          "text": [
            "Aryaaaaaa@123\n",
            "strong password\n"
          ]
        }
      ]
    },
    {
      "cell_type": "code",
      "source": [
        "import random\n",
        "game = [\"rock\",\"paper\",\"scissors\"]\n",
        "comp = random.choice(game)\n",
        "user = input()\n",
        "if comp == user:\n",
        "  print(\"tie\")\n",
        "elif comp == \"rock\" and user == \"scissors\" or comp == \"scissors\" and user == \"paper\" or comp == \"paper\" and user == \"rock\":\n",
        "  print(\"computer win\")\n",
        "else:\n",
        "  print(\"user win\")\n",
        "print(\"computer choosed:\", comp)"
      ],
      "metadata": {
        "colab": {
          "base_uri": "https://localhost:8080/"
        },
        "id": "lb7pIVlZQK1x",
        "outputId": "1b876c03-64ff-456c-a3e1-7445b0d6fdce"
      },
      "execution_count": 31,
      "outputs": [
        {
          "output_type": "stream",
          "name": "stdout",
          "text": [
            "paper\n",
            "tie\n",
            "computer choosed: paper\n"
          ]
        }
      ]
    },
    {
      "cell_type": "code",
      "source": [],
      "metadata": {
        "id": "y_Jpv1GyVNWM"
      },
      "execution_count": null,
      "outputs": []
    }
  ]
}